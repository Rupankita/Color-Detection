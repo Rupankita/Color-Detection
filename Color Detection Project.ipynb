{
 "cells": [
  {
   "cell_type": "code",
   "execution_count": 1,
   "id": "f3e3029d",
   "metadata": {},
   "outputs": [],
   "source": [
    "import cv2"
   ]
  },
  {
   "cell_type": "code",
   "execution_count": 2,
   "id": "ea56605b",
   "metadata": {},
   "outputs": [],
   "source": [
    "import pandas as pd"
   ]
  },
  {
   "cell_type": "code",
   "execution_count": 3,
   "id": "414ceaf0",
   "metadata": {},
   "outputs": [],
   "source": [
    "img_path = 'photo1.jpeg' \n",
    "csv_path = 'colors.csv'"
   ]
  },
  {
   "cell_type": "code",
   "execution_count": 4,
   "id": "6f60343c",
   "metadata": {},
   "outputs": [
    {
     "name": "stdout",
     "output_type": "stream",
     "text": [
      "     air_force_blue_raf   Air Force Blue (Raf)  #5d8aa8   93  138  168\n",
      "0   air_force_blue_usaf  Air Force Blue (Usaf)  #00308f    0   48  143\n",
      "1  air_superiority_blue   Air Superiority Blue  #72a0c1  114  160  193\n",
      "2       alabama_crimson        Alabama Crimson  #a32638  163   38   56\n",
      "3            alice_blue             Alice Blue  #f0f8ff  240  248  255\n",
      "4      alizarin_crimson       Alizarin Crimson  #e32636  227   38   54\n"
     ]
    }
   ],
   "source": [
    "df = pd.read_csv(csv_path)\n",
    "print(df.head(5))"
   ]
  },
  {
   "cell_type": "code",
   "execution_count": 5,
   "id": "53e8f2d7",
   "metadata": {},
   "outputs": [
    {
     "name": "stdout",
     "output_type": "stream",
     "text": [
      "                  color             color_name      hex    R    G    B\n",
      "0    air_force_blue_raf   Air Force Blue (Raf)  #5d8aa8   93  138  168\n",
      "1   air_force_blue_usaf  Air Force Blue (Usaf)  #00308f    0   48  143\n",
      "2  air_superiority_blue   Air Superiority Blue  #72a0c1  114  160  193\n",
      "3       alabama_crimson        Alabama Crimson  #a32638  163   38   56\n",
      "4            alice_blue             Alice Blue  #f0f8ff  240  248  255\n"
     ]
    }
   ],
   "source": [
    "index = ['color','color_name','hex','R','G','B']\n",
    "df = pd.read_csv(csv_path, names=index, header=None)\n",
    "print(df.head(5))"
   ]
  },
  {
   "cell_type": "code",
   "execution_count": 6,
   "id": "df71e9d3",
   "metadata": {},
   "outputs": [
    {
     "name": "stdout",
     "output_type": "stream",
     "text": [
      "865\n"
     ]
    }
   ],
   "source": [
    "print(len(df))"
   ]
  },
  {
   "cell_type": "code",
   "execution_count": 7,
   "id": "650b6230",
   "metadata": {},
   "outputs": [
    {
     "name": "stdout",
     "output_type": "stream",
     "text": [
      "color           air_force_blue_usaf\n",
      "color_name    Air Force Blue (Usaf)\n",
      "hex                         #00308f\n",
      "R                                 0\n",
      "G                                48\n",
      "B                               143\n",
      "Name: 1, dtype: object\n"
     ]
    }
   ],
   "source": [
    "print(df.loc[1])"
   ]
  },
  {
   "cell_type": "code",
   "execution_count": 8,
   "id": "302f4596",
   "metadata": {},
   "outputs": [
    {
     "name": "stdout",
     "output_type": "stream",
     "text": [
      "0\n"
     ]
    }
   ],
   "source": [
    "print(df.loc[1,'R'])"
   ]
  },
  {
   "cell_type": "code",
   "execution_count": 9,
   "id": "7eef4155",
   "metadata": {},
   "outputs": [
    {
     "name": "stdout",
     "output_type": "stream",
     "text": [
      "[[[ 5 12 29]\n",
      "  [ 5 12 29]\n",
      "  [ 5 12 29]\n",
      "  ...\n",
      "  [80 57  9]\n",
      "  [68 42  8]\n",
      "  [55 26  4]]\n",
      "\n",
      " [[ 5 12 29]\n",
      "  [ 5 12 29]\n",
      "  [ 5 12 29]\n",
      "  ...\n",
      "  [71 47  4]\n",
      "  [58 32  1]\n",
      "  [47 19  0]]\n",
      "\n",
      " [[ 5 12 29]\n",
      "  [ 5 12 29]\n",
      "  [ 5 12 29]\n",
      "  ...\n",
      "  [61 35  0]\n",
      "  [46 21  0]\n",
      "  [40 13  0]]\n",
      "\n",
      " ...\n",
      "\n",
      " [[ 4  3 48]\n",
      "  [ 1  1 41]\n",
      "  [ 0  1 38]\n",
      "  ...\n",
      "  [ 3  0 73]\n",
      "  [ 2  0 71]\n",
      "  [ 2  0 70]]\n",
      "\n",
      " [[ 4  2 48]\n",
      "  [ 1  1 41]\n",
      "  [ 0  1 37]\n",
      "  ...\n",
      "  [ 3  0 73]\n",
      "  [ 3  0 72]\n",
      "  [ 2  0 72]]\n",
      "\n",
      " [[ 3  2 47]\n",
      "  [ 1  1 41]\n",
      "  [ 0  0 37]\n",
      "  ...\n",
      "  [ 3  0 73]\n",
      "  [ 3  0 71]\n",
      "  [ 2  0 70]]]\n"
     ]
    }
   ],
   "source": [
    "img = cv2.imread(img_path)\n",
    "img = cv2.resize(img,(800,600))\n",
    "print (img)"
   ]
  },
  {
   "cell_type": "code",
   "execution_count": 10,
   "id": "8ab66fda",
   "metadata": {},
   "outputs": [],
   "source": [
    "clicked = False\n",
    "r = g = b = xpos = 0"
   ]
  },
  {
   "cell_type": "code",
   "execution_count": 11,
   "id": "ceecf760",
   "metadata": {},
   "outputs": [],
   "source": [
    "def get_color_name(R,G,B):\n",
    "    minimum = 1000\n",
    "    for i in range(len(df)):\n",
    "        d = abs(R - int(df.loc[i,'R'])) + abs(G - int(df.loc[i,'G'])) + abs(B - int(df.loc[i,'B']))\n",
    "        if d <= minimum:\n",
    "            minimum = d\n",
    "            cname = df.loc[i,'color_name']\n",
    "\n",
    "    return cname"
   ]
  },
  {
   "cell_type": "code",
   "execution_count": 12,
   "id": "678fd5c8",
   "metadata": {},
   "outputs": [],
   "source": [
    "def draw_function(event, x, y, flags, params):\n",
    "    if event == cv2.EVENT_LBUTTONDBLCLK:\n",
    "        global clicked, r, g, b, xpos, ypos\n",
    "        clicked = True\n",
    "        xpos = x\n",
    "        ypos = y\n",
    "        b, g, r = img[y,x]\n",
    "        b = int(b)\n",
    "        g = int(g)\n",
    "        r = int(r)"
   ]
  },
  {
   "cell_type": "code",
   "execution_count": 13,
   "id": "46421ce0",
   "metadata": {},
   "outputs": [],
   "source": [
    "cv2.namedWindow('image')\n",
    "cv2.setMouseCallback('image',draw_function)"
   ]
  },
  {
   "cell_type": "code",
   "execution_count": null,
   "id": "0b574099",
   "metadata": {},
   "outputs": [],
   "source": [
    "while True:\n",
    "    cv2.imshow('image', img)\n",
    "    if clicked:\n",
    "        cv2.rectangle(img, (20,20), (600,60), (b,g,r), -1)\n",
    "        text = get_color_name(r,g,b) + 'R=' + str(r) + 'G=' + str(g) + 'B=' + str(b)\n",
    "        cv2.putText(img, text, (50,50), 2, 0.8, (255,255,255), 2, cv2.LINE_AA)\n",
    "        if r+g+b >= 600:\n",
    "            cv2.putText(img, text, (50,50), 2, 0.8, (255,255,255), 2, cv2.LINE_AA)\n",
    "    if cv2.waitKey(20) &0xFF == 27:\n",
    "        break\n",
    "cv2.destroyAllWindows()"
   ]
  },
  {
   "cell_type": "code",
   "execution_count": null,
   "id": "876de6f3",
   "metadata": {},
   "outputs": [],
   "source": []
  }
 ],
 "metadata": {
  "kernelspec": {
   "display_name": "Python 3 (ipykernel)",
   "language": "python",
   "name": "python3"
  },
  "language_info": {
   "codemirror_mode": {
    "name": "ipython",
    "version": 3
   },
   "file_extension": ".py",
   "mimetype": "text/x-python",
   "name": "python",
   "nbconvert_exporter": "python",
   "pygments_lexer": "ipython3",
   "version": "3.9.8"
  }
 },
 "nbformat": 4,
 "nbformat_minor": 5
}
